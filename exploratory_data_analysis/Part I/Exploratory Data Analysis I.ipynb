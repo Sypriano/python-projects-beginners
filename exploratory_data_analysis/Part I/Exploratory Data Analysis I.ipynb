{
 "cells": [
  {
   "cell_type": "markdown",
   "id": "ceda7cae",
   "metadata": {},
   "source": [
    "<h2 align=\"center\"> Exploratory Data Analysis I</h2>"
   ]
  },
  {
   "cell_type": "markdown",
   "id": "8f0f6f6e",
   "metadata": {},
   "source": [
    "In this project, basic statistical queries and analysis were performed using the <a href='https://grouplens.org/datasets/movielens/latest/'>MovieLens Latest Datasets</a>\n",
    "\n",
    "\n",
    "`Pandas` `DataFrame`  `Series`  `Seaborn`  `Statistical Data Visualization`   `Matplotlib`"
   ]
  },
  {
   "cell_type": "markdown",
   "id": "784a5a2c",
   "metadata": {},
   "source": [
    "### Ratings"
   ]
  },
  {
   "cell_type": "code",
   "execution_count": 119,
   "id": "d8c46ab5",
   "metadata": {
    "scrolled": true
   },
   "outputs": [
    {
     "data": {
      "text/html": [
       "<div>\n",
       "<style scoped>\n",
       "    .dataframe tbody tr th:only-of-type {\n",
       "        vertical-align: middle;\n",
       "    }\n",
       "\n",
       "    .dataframe tbody tr th {\n",
       "        vertical-align: top;\n",
       "    }\n",
       "\n",
       "    .dataframe thead th {\n",
       "        text-align: right;\n",
       "    }\n",
       "</style>\n",
       "<table border=\"1\" class=\"dataframe\">\n",
       "  <thead>\n",
       "    <tr style=\"text-align: right;\">\n",
       "      <th></th>\n",
       "      <th>userId</th>\n",
       "      <th>movieId</th>\n",
       "      <th>rating</th>\n",
       "      <th>timestamp</th>\n",
       "    </tr>\n",
       "  </thead>\n",
       "  <tbody>\n",
       "    <tr>\n",
       "      <th>0</th>\n",
       "      <td>1</td>\n",
       "      <td>1</td>\n",
       "      <td>4.0</td>\n",
       "      <td>964982703</td>\n",
       "    </tr>\n",
       "    <tr>\n",
       "      <th>1</th>\n",
       "      <td>1</td>\n",
       "      <td>3</td>\n",
       "      <td>4.0</td>\n",
       "      <td>964981247</td>\n",
       "    </tr>\n",
       "    <tr>\n",
       "      <th>2</th>\n",
       "      <td>1</td>\n",
       "      <td>6</td>\n",
       "      <td>4.0</td>\n",
       "      <td>964982224</td>\n",
       "    </tr>\n",
       "    <tr>\n",
       "      <th>3</th>\n",
       "      <td>1</td>\n",
       "      <td>47</td>\n",
       "      <td>5.0</td>\n",
       "      <td>964983815</td>\n",
       "    </tr>\n",
       "    <tr>\n",
       "      <th>4</th>\n",
       "      <td>1</td>\n",
       "      <td>50</td>\n",
       "      <td>5.0</td>\n",
       "      <td>964982931</td>\n",
       "    </tr>\n",
       "  </tbody>\n",
       "</table>\n",
       "</div>"
      ],
      "text/plain": [
       "   userId  movieId  rating  timestamp\n",
       "0       1        1     4.0  964982703\n",
       "1       1        3     4.0  964981247\n",
       "2       1        6     4.0  964982224\n",
       "3       1       47     5.0  964983815\n",
       "4       1       50     5.0  964982931"
      ]
     },
     "execution_count": 119,
     "metadata": {},
     "output_type": "execute_result"
    }
   ],
   "source": [
    "import pandas as pd\n",
    "\n",
    "ratings = pd.read_csv('ratings.csv', sep=',')\n",
    "ratings.head() # DataFrame"
   ]
  },
  {
   "cell_type": "code",
   "execution_count": 120,
   "id": "c84acf61",
   "metadata": {},
   "outputs": [
    {
     "name": "stdout",
     "output_type": "stream",
     "text": [
      "100836 rows\n",
      "4 columns\n"
     ]
    }
   ],
   "source": [
    "print(ratings.shape[0], \"rows\")\n",
    "print(ratings.shape[-1], \"columns\")"
   ]
  },
  {
   "cell_type": "markdown",
   "id": "46d96a0e",
   "metadata": {},
   "source": [
    "##### Possible ratings using series object:"
   ]
  },
  {
   "cell_type": "code",
   "execution_count": 121,
   "id": "e9045ace",
   "metadata": {},
   "outputs": [
    {
     "data": {
      "text/plain": [
       "array([4. , 5. , 3. , 2. , 1. , 4.5, 3.5, 2.5, 0.5, 1.5])"
      ]
     },
     "execution_count": 121,
     "metadata": {},
     "output_type": "execute_result"
    }
   ],
   "source": [
    "ratings['rating'].unique()"
   ]
  },
  {
   "cell_type": "markdown",
   "id": "17dcc241",
   "metadata": {},
   "source": [
    "##### Frequency of each rating:"
   ]
  },
  {
   "cell_type": "code",
   "execution_count": 122,
   "id": "6715df8f",
   "metadata": {},
   "outputs": [
    {
     "data": {
      "text/plain": [
       "4.0    26818\n",
       "3.0    20047\n",
       "5.0    13211\n",
       "3.5    13136\n",
       "4.5     8551\n",
       "2.0     7551\n",
       "2.5     5550\n",
       "1.0     2811\n",
       "1.5     1791\n",
       "0.5     1370\n",
       "Name: rating, dtype: int64"
      ]
     },
     "execution_count": 122,
     "metadata": {},
     "output_type": "execute_result"
    }
   ],
   "source": [
    "ratings['rating'].value_counts()"
   ]
  },
  {
   "cell_type": "markdown",
   "id": "26f8574a",
   "metadata": {},
   "source": [
    "##### Plotting the above frequency as histogram:"
   ]
  },
  {
   "cell_type": "code",
   "execution_count": 123,
   "id": "0091195e",
   "metadata": {},
   "outputs": [
    {
     "data": {
      "text/plain": [
       "<AxesSubplot:ylabel='Frequency'>"
      ]
     },
     "execution_count": 123,
     "metadata": {},
     "output_type": "execute_result"
    },
    {
     "data": {
      "image/png": "[encoded data removed]",
      "text/plain": [
       "<Figure size 432x288 with 1 Axes>"
      ]
     },
     "metadata": {
      "needs_background": "light"
     },
     "output_type": "display_data"
    }
   ],
   "source": [
    "ratings.rating.plot(kind='hist')"
   ]
  },
  {
   "cell_type": "code",
   "execution_count": 124,
   "id": "a88e5660",
   "metadata": {},
   "outputs": [
    {
     "name": "stdout",
     "output_type": "stream",
     "text": [
      "Mean: 3.501556983616962\n",
      "Median: 3.5\n"
     ]
    }
   ],
   "source": [
    "print(\"Mean:\",ratings['rating'].mean())\n",
    "print(\"Median:\",ratings['rating'].median())"
   ]
  },
  {
   "cell_type": "markdown",
   "id": "69394488",
   "metadata": {},
   "source": [
    " Or in a simplified way:"
   ]
  },
  {
   "cell_type": "code",
   "execution_count": 125,
   "id": "d3c9e921",
   "metadata": {},
   "outputs": [
    {
     "data": {
      "text/plain": [
       "count    100836.000000\n",
       "mean          3.501557\n",
       "std           1.042529\n",
       "min           0.500000\n",
       "25%           3.000000\n",
       "50%           3.500000\n",
       "75%           4.000000\n",
       "max           5.000000\n",
       "Name: rating, dtype: float64"
      ]
     },
     "execution_count": 125,
     "metadata": {},
     "output_type": "execute_result"
    }
   ],
   "source": [
    "ratings.rating.describe()"
   ]
  },
  {
   "cell_type": "markdown",
   "id": "61d6bd79",
   "metadata": {},
   "source": [
    "##### Visualization as a boxplot:"
   ]
  },
  {
   "cell_type": "code",
   "execution_count": 126,
   "id": "6ea3ecbb",
   "metadata": {},
   "outputs": [
    {
     "data": {
      "text/plain": [
       "<AxesSubplot:xlabel='rating'>"
      ]
     },
     "execution_count": 126,
     "metadata": {},
     "output_type": "execute_result"
    },
    {
     "data": {
      "image/png": "[encoded data removed]",
      "text/plain": [
       "<Figure size 432x288 with 1 Axes>"
      ]
     },
     "metadata": {
      "needs_background": "light"
     },
     "output_type": "display_data"
    }
   ],
   "source": [
    "import seaborn as sns\n",
    "\n",
    "sns.boxplot(ratings.rating)"
   ]
  },
  {
   "cell_type": "markdown",
   "id": "199ad78e",
   "metadata": {},
   "source": [
    "Conclusion: Half of the given ratings are between 3 and 4"
   ]
  },
  {
   "cell_type": "markdown",
   "id": "e355e47f",
   "metadata": {},
   "source": [
    "### Movies"
   ]
  },
  {
   "cell_type": "code",
   "execution_count": 127,
   "id": "c28df195",
   "metadata": {},
   "outputs": [
    {
     "data": {
      "text/html": [
       "<div>\n",
       "<style scoped>\n",
       "    .dataframe tbody tr th:only-of-type {\n",
       "        vertical-align: middle;\n",
       "    }\n",
       "\n",
       "    .dataframe tbody tr th {\n",
       "        vertical-align: top;\n",
       "    }\n",
       "\n",
       "    .dataframe thead th {\n",
       "        text-align: right;\n",
       "    }\n",
       "</style>\n",
       "<table border=\"1\" class=\"dataframe\">\n",
       "  <thead>\n",
       "    <tr style=\"text-align: right;\">\n",
       "      <th></th>\n",
       "      <th>movieId</th>\n",
       "      <th>title</th>\n",
       "      <th>genres</th>\n",
       "    </tr>\n",
       "  </thead>\n",
       "  <tbody>\n",
       "    <tr>\n",
       "      <th>0</th>\n",
       "      <td>1</td>\n",
       "      <td>Toy Story (1995)</td>\n",
       "      <td>Adventure|Animation|Children|Comedy|Fantasy</td>\n",
       "    </tr>\n",
       "    <tr>\n",
       "      <th>1</th>\n",
       "      <td>2</td>\n",
       "      <td>Jumanji (1995)</td>\n",
       "      <td>Adventure|Children|Fantasy</td>\n",
       "    </tr>\n",
       "    <tr>\n",
       "      <th>2</th>\n",
       "      <td>3</td>\n",
       "      <td>Grumpier Old Men (1995)</td>\n",
       "      <td>Comedy|Romance</td>\n",
       "    </tr>\n",
       "    <tr>\n",
       "      <th>3</th>\n",
       "      <td>4</td>\n",
       "      <td>Waiting to Exhale (1995)</td>\n",
       "      <td>Comedy|Drama|Romance</td>\n",
       "    </tr>\n",
       "    <tr>\n",
       "      <th>4</th>\n",
       "      <td>5</td>\n",
       "      <td>Father of the Bride Part II (1995)</td>\n",
       "      <td>Comedy</td>\n",
       "    </tr>\n",
       "  </tbody>\n",
       "</table>\n",
       "</div>"
      ],
      "text/plain": [
       "   movieId                               title  \\\n",
       "0        1                    Toy Story (1995)   \n",
       "1        2                      Jumanji (1995)   \n",
       "2        3             Grumpier Old Men (1995)   \n",
       "3        4            Waiting to Exhale (1995)   \n",
       "4        5  Father of the Bride Part II (1995)   \n",
       "\n",
       "                                        genres  \n",
       "0  Adventure|Animation|Children|Comedy|Fantasy  \n",
       "1                   Adventure|Children|Fantasy  \n",
       "2                               Comedy|Romance  \n",
       "3                         Comedy|Drama|Romance  \n",
       "4                                       Comedy  "
      ]
     },
     "execution_count": 127,
     "metadata": {},
     "output_type": "execute_result"
    }
   ],
   "source": [
    "movies = pd.read_csv('movies.csv')\n",
    "movies.head()"
   ]
  },
  {
   "cell_type": "markdown",
   "id": "587ec874",
   "metadata": {},
   "source": [
    "##### Looking at some specific ratings per movie:"
   ]
  },
  {
   "cell_type": "code",
   "execution_count": 128,
   "id": "78607da0",
   "metadata": {},
   "outputs": [
    {
     "data": {
      "text/plain": [
       "3.9209302325581397"
      ]
     },
     "execution_count": 128,
     "metadata": {},
     "output_type": "execute_result"
    }
   ],
   "source": [
    "ratings.query(\"movieId==1\").rating.mean()"
   ]
  },
  {
   "cell_type": "code",
   "execution_count": 129,
   "id": "07db32b9",
   "metadata": {},
   "outputs": [
    {
     "data": {
      "text/plain": [
       "3.4318181818181817"
      ]
     },
     "execution_count": 129,
     "metadata": {},
     "output_type": "execute_result"
    }
   ],
   "source": [
    "ratings.query(\"movieId==2\").rating.mean()"
   ]
  },
  {
   "cell_type": "markdown",
   "id": "6def36c2",
   "metadata": {},
   "source": [
    "##### Grouping DataFrame per movie:"
   ]
  },
  {
   "cell_type": "code",
   "execution_count": 130,
   "id": "1c33326f",
   "metadata": {},
   "outputs": [
    {
     "data": {
      "text/plain": [
       "movieId\n",
       "1    3.920930\n",
       "2    3.431818\n",
       "3    3.259615\n",
       "4    2.357143\n",
       "5    3.071429\n",
       "Name: rating, dtype: float64"
      ]
     },
     "execution_count": 130,
     "metadata": {},
     "output_type": "execute_result"
    }
   ],
   "source": [
    "means_per_movie= ratings.groupby(\"movieId\").mean()[\"rating\"]\n",
    "means_per_movie.head()"
   ]
  },
  {
   "cell_type": "markdown",
   "id": "fe1c7f83",
   "metadata": {},
   "source": [
    "##### Plotting as histogram and boxplot using seaborn/matplotlib:"
   ]
  },
  {
   "cell_type": "code",
   "execution_count": 131,
   "id": "148050ef",
   "metadata": {},
   "outputs": [
    {
     "data": {
      "text/plain": [
       "<AxesSubplot:xlabel='rating'>"
      ]
     },
     "execution_count": 131,
     "metadata": {},
     "output_type": "execute_result"
    },
    {
     "data": {
      "image/png": "[encoded data removed]",
      "text/plain": [
       "<Figure size 432x288 with 1 Axes>"
      ]
     },
     "metadata": {
      "needs_background": "light"
     },
     "output_type": "display_data"
    }
   ],
   "source": [
    "sns.distplot(means_per_movie, bins=35)"
   ]
  },
  {
   "cell_type": "code",
   "execution_count": 132,
   "id": "eddaf7c3",
   "metadata": {},
   "outputs": [
    {
     "data": {
      "text/plain": [
       "<AxesSubplot:title={'center':'Mean of rating per movie'}, ylabel='rating'>"
      ]
     },
     "execution_count": 132,
     "metadata": {},
     "output_type": "execute_result"
    },
    {
     "data": {
      "image/png": "[encoded data removed]",
      "text/plain": [
       "<Figure size 288x432 with 1 Axes>"
      ]
     },
     "metadata": {
      "needs_background": "light"
     },
     "output_type": "display_data"
    }
   ],
   "source": [
    "import matplotlib.pyplot as plt\n",
    "\n",
    "plt.figure(figsize=(4,6))\n",
    "plt.title('Mean of rating per movie')\n",
    "sns.boxplot(y=means_per_movie)"
   ]
  },
  {
   "cell_type": "markdown",
   "id": "e1043af2",
   "metadata": {},
   "source": [
    "#### Reviewing the role of the mean, median, standard deviation and boxplot:"
   ]
  },
  {
   "cell_type": "code",
   "execution_count": 133,
   "id": "44fd1fa6",
   "metadata": {},
   "outputs": [
    {
     "data": {
      "text/html": [
       "<div>\n",
       "<style scoped>\n",
       "    .dataframe tbody tr th:only-of-type {\n",
       "        vertical-align: middle;\n",
       "    }\n",
       "\n",
       "    .dataframe tbody tr th {\n",
       "        vertical-align: top;\n",
       "    }\n",
       "\n",
       "    .dataframe thead th {\n",
       "        text-align: right;\n",
       "    }\n",
       "</style>\n",
       "<table border=\"1\" class=\"dataframe\">\n",
       "  <thead>\n",
       "    <tr style=\"text-align: right;\">\n",
       "      <th></th>\n",
       "      <th>movieId</th>\n",
       "      <th>title</th>\n",
       "      <th>genres</th>\n",
       "    </tr>\n",
       "  </thead>\n",
       "  <tbody>\n",
       "    <tr>\n",
       "      <th>0</th>\n",
       "      <td>1</td>\n",
       "      <td>Toy Story (1995)</td>\n",
       "      <td>Adventure|Animation|Children|Comedy|Fantasy</td>\n",
       "    </tr>\n",
       "    <tr>\n",
       "      <th>1</th>\n",
       "      <td>2</td>\n",
       "      <td>Jumanji (1995)</td>\n",
       "      <td>Adventure|Children|Fantasy</td>\n",
       "    </tr>\n",
       "    <tr>\n",
       "      <th>2</th>\n",
       "      <td>3</td>\n",
       "      <td>Grumpier Old Men (1995)</td>\n",
       "      <td>Comedy|Romance</td>\n",
       "    </tr>\n",
       "    <tr>\n",
       "      <th>3</th>\n",
       "      <td>4</td>\n",
       "      <td>Waiting to Exhale (1995)</td>\n",
       "      <td>Comedy|Drama|Romance</td>\n",
       "    </tr>\n",
       "    <tr>\n",
       "      <th>4</th>\n",
       "      <td>5</td>\n",
       "      <td>Father of the Bride Part II (1995)</td>\n",
       "      <td>Comedy</td>\n",
       "    </tr>\n",
       "  </tbody>\n",
       "</table>\n",
       "</div>"
      ],
      "text/plain": [
       "   movieId                               title  \\\n",
       "0        1                    Toy Story (1995)   \n",
       "1        2                      Jumanji (1995)   \n",
       "2        3             Grumpier Old Men (1995)   \n",
       "3        4            Waiting to Exhale (1995)   \n",
       "4        5  Father of the Bride Part II (1995)   \n",
       "\n",
       "                                        genres  \n",
       "0  Adventure|Animation|Children|Comedy|Fantasy  \n",
       "1                   Adventure|Children|Fantasy  \n",
       "2                               Comedy|Romance  \n",
       "3                         Comedy|Drama|Romance  \n",
       "4                                       Comedy  "
      ]
     },
     "execution_count": 133,
     "metadata": {},
     "output_type": "execute_result"
    }
   ],
   "source": [
    "movies.head()"
   ]
  },
  {
   "cell_type": "code",
   "execution_count": 135,
   "id": "831b7937",
   "metadata": {},
   "outputs": [
    {
     "name": "stdout",
     "output_type": "stream",
     "text": [
      "215 110\n"
     ]
    }
   ],
   "source": [
    "rating_toy_story = ratings.query(\"movieId==1\")\n",
    "rating_jumanji = ratings.query(\"movieId==2\")\n",
    "print(len(rating_toy_story), len(rating_jumanji))"
   ]
  },
  {
   "cell_type": "code",
   "execution_count": 168,
   "id": "ed0ad0a6",
   "metadata": {},
   "outputs": [
    {
     "name": "stdout",
     "output_type": "stream",
     "text": [
      "Mean rating of Toy Story is 3.92\n",
      "Median rating of Toy Story is 4.00\n",
      "Std. deviation of rating of Toy Story is 0.83\n",
      " \n",
      "Mean rating of Jumanji is 3.43\n",
      "Median rating of Jumanji is 3.50\n",
      "Std. deviation of rating of Toy Story is 0.88\n"
     ]
    }
   ],
   "source": [
    "print(\"Mean rating of Toy Story is %.2f\" % rating_toy_story.rating.mean())\n",
    "print(\"Median rating of Toy Story is %.2f\" % rating_toy_story.rating.median())\n",
    "print(\"Std. deviation of rating of Toy Story is %.2f\" % rating_toy_story.rating.std())\n",
    "print(\" \")\n",
    "print(\"Mean rating of Jumanji is %.2f\" % rating_jumanji.rating.mean())\n",
    "print(\"Median rating of Jumanji is %.2f\" % rating_jumanji.rating.median())\n",
    "print(\"Std. deviation of rating of Toy Story is %.2f\" % rating_jumanji.rating.std())"
   ]
  },
  {
   "cell_type": "markdown",
   "id": "91727fc5",
   "metadata": {},
   "source": [
    "##### Plotting the distribution:"
   ]
  },
  {
   "cell_type": "code",
   "execution_count": 147,
   "id": "824cc5f1",
   "metadata": {},
   "outputs": [
    {
     "data": {
      "text/plain": [
       "{'whiskers': [<matplotlib.lines.Line2D at 0x7f83d8078b20>,\n",
       "  <matplotlib.lines.Line2D at 0x7f83d8078e80>,\n",
       "  <matplotlib.lines.Line2D at 0x7f83d8095280>,\n",
       "  <matplotlib.lines.Line2D at 0x7f83d80955b0>],\n",
       " 'caps': [<matplotlib.lines.Line2D at 0x7f83d8086220>,\n",
       "  <matplotlib.lines.Line2D at 0x7f83d8086580>,\n",
       "  <matplotlib.lines.Line2D at 0x7f83d80958e0>,\n",
       "  <matplotlib.lines.Line2D at 0x7f83d8095c10>],\n",
       " 'boxes': [<matplotlib.lines.Line2D at 0x7f83d8078790>,\n",
       "  <matplotlib.lines.Line2D at 0x7f83d8086f10>],\n",
       " 'medians': [<matplotlib.lines.Line2D at 0x7f83d80868b0>,\n",
       "  <matplotlib.lines.Line2D at 0x7f83d8095f40>],\n",
       " 'fliers': [<matplotlib.lines.Line2D at 0x7f83d8086be0>,\n",
       "  <matplotlib.lines.Line2D at 0x7f84183172b0>],\n",
       " 'means': []}"
      ]
     },
     "execution_count": 147,
     "metadata": {},
     "output_type": "execute_result"
    },
    {
     "data": {
      "image/png": "[encoded data removed]",
      "text/plain": [
       "<Figure size 432x288 with 1 Axes>"
      ]
     },
     "metadata": {
      "needs_background": "light"
     },
     "output_type": "display_data"
    }
   ],
   "source": [
    "plt.boxplot([rating_toy_story.rating, rating_jumanji.rating])"
   ]
  },
  {
   "cell_type": "code",
   "execution_count": 165,
   "id": "dfaa69cd",
   "metadata": {},
   "outputs": [
    {
     "data": {
      "text/plain": [
       "<AxesSubplot:xlabel='movieId', ylabel='rating'>"
      ]
     },
     "execution_count": 165,
     "metadata": {},
     "output_type": "execute_result"
    },
    {
     "data": {
      "image/png": "[encoded data removed]",
      "text/plain": [
       "<Figure size 432x288 with 1 Axes>"
      ]
     },
     "metadata": {
      "needs_background": "light"
     },
     "output_type": "display_data"
    }
   ],
   "source": [
    "sns.boxplot(x= \"movieId\", y= \"rating\", data= ratings.query(\"movieId in [1,2]\"))"
   ]
  },
  {
   "cell_type": "code",
   "execution_count": null,
   "id": "5bc4aca5",
   "metadata": {},
   "outputs": [],
   "source": []
  }
 ],
 "metadata": {
  "kernelspec": {
   "display_name": "Python 3",
   "language": "python",
   "name": "python3"
  },
  "language_info": {
   "codemirror_mode": {
    "name": "ipython",
    "version": 3
   },
   "file_extension": ".py",
   "mimetype": "text/x-python",
   "name": "python",
   "nbconvert_exporter": "python",
   "pygments_lexer": "ipython3",
   "version": "3.8.8"
  }
 },
 "nbformat": 4,
 "nbformat_minor": 5
}
